{
  "nbformat": 4,
  "nbformat_minor": 0,
  "metadata": {
    "colab": {
      "provenance": [],
      "authorship_tag": "ABX9TyNCyxdXGJPvXTcEkZjnzHFx",
      "include_colab_link": true
    },
    "kernelspec": {
      "name": "python3",
      "display_name": "Python 3"
    },
    "language_info": {
      "name": "python"
    }
  },
  "cells": [
    {
      "cell_type": "markdown",
      "metadata": {
        "id": "view-in-github",
        "colab_type": "text"
      },
      "source": [
        "<a href=\"https://colab.research.google.com/github/hermescosta/Hermes-2025-/blob/main/An%C3%A1lise_de_portf%C3%B3lio_RBras_2023.ipynb\" target=\"_parent\"><img src=\"https://colab.research.google.com/assets/colab-badge.svg\" alt=\"Open In Colab\"/></a>"
      ]
    },
    {
      "cell_type": "markdown",
      "source": [
        "Este estudo teve início no meu primeiro ano da graduação em Bacharelado em Estatística, com o objetivo de aplicar técnicas estatísticas descritivas em um contexto prático e acessível. A análise foi conduzida com foco na visualização e interpretação de dados de um portfólio de ações, permitindo uma compreensão mais intuitiva dos padrões de comportamento dos ativos. O trabalho foi apresentado na RBras 2023, realizada na cidade de Londrina, destacando-se pela abordagem visual e pela capacidade de extrair insights relevantes mesmo com ferramentas estatísticas iniciais."
      ],
      "metadata": {
        "id": "jX7HmMQqjpvN"
      }
    },
    {
      "cell_type": "markdown",
      "source": [
        "# **Análise de Portfólio**"
      ],
      "metadata": {
        "id": "ASycrq2Kj6K8"
      }
    },
    {
      "cell_type": "markdown",
      "source": [
        "# Introdução"
      ],
      "metadata": {
        "id": "l1a-qUfwkW-M"
      }
    },
    {
      "cell_type": "markdown",
      "source": [
        "No campo da avaliação de investimentos, a compreensão do nível de risco associado a um ativo desempenha um papel fundamental. O risco é um fator crucial na determinação da taxa de desconto utilizada para trazer os fluxos de caixa futuros a valor presente. A taxa de desconto, por sua vez, reflete o risco ao qual o capital investido está exposto em uma empresa, afetando diretamente a avaliação de projetos e a tomada de decisão dos investidores.\n",
        "\n",
        "No contexto dos investimentos, o risco está intimamente relacionado à probabilidade real de obter um retorno inferior ao esperado. Os investidores, conscientes desse risco, exigem uma taxa de retorno maior para compensar a incerteza e o potencial de perdas. Essa relação positiva entre risco e retorno esperado implica que projetos com maior volatilidade esperada exigiriam um prêmio de risco maior para atrair investidores.\n"
      ],
      "metadata": {
        "id": "MTShSVmDkbYU"
      }
    },
    {
      "cell_type": "markdown",
      "source": [
        "# Objetivo"
      ],
      "metadata": {
        "id": "o9NQ_-xOGpzQ"
      }
    },
    {
      "cell_type": "markdown",
      "source": [
        " Calcular estatísticas descritivas, como volatilidade, matriz de correlação, índice de Sharp e VaR, a fim de ajudar os investidores a compreender os riscos e retornos envolvidos na seleção de uma carteira de investimentos e, assim, minimizar perdas.\n",
        "\n",
        " Inicialmente importamos as bilbiotecas necessarias:\n",
        "\n",
        "\n",
        "\n",
        "*   YFinance: permite acessar dados financeiros do Yahoo Finance diretamente no Python.\n",
        "*   NumPy: biblioteca para computação numérica.\n",
        "*   Matplotlib: para visualização gráfica dos dados, permitindo criar gráficos de linha, barras, histogramas...\n",
        "\n",
        "\n",
        "\n",
        "\n",
        "\n"
      ],
      "metadata": {
        "id": "dkFSypUqGtfQ"
      }
    },
    {
      "cell_type": "code",
      "source": [
        "# importar as bibliotecas\n",
        "import yfinance as yf\n",
        "import numpy as np\n",
        "import matplotlib.pyplot as plt"
      ],
      "metadata": {
        "id": "8FKPOxdcKO0c"
      },
      "execution_count": 2,
      "outputs": []
    },
    {
      "cell_type": "markdown",
      "source": [
        "# Obtenção dos Dados"
      ],
      "metadata": {
        "id": "Kmo4wmRGH_Ku"
      }
    },
    {
      "cell_type": "markdown",
      "source": [
        "O portfólio analisado é composto pelos seguintes ativos da bolsa de valores brasileira: PETR4.SA, VALE3.SA, ITUB4.SA, BBDC4.SA e BBAS3.SA. Para cada um desses ativos, foram coletados os preços históricos de fechamento diário no período de 1º de janeiro de 2022 a 31 de dezembro de 2022. A coleta foi realizada utilizando a biblioteca yfinance, que permite acesso automatizado e direto à base de dados do Yahoo Finance, facilitando o processo de extração e manipulação das séries temporais financeiras."
      ],
      "metadata": {
        "id": "iCI5IiFmIHJy"
      }
    },
    {
      "cell_type": "markdown",
      "source": [
        "Definimos abaixo o período de análise, que compreende do início ao fim do ano de 2022.\n",
        "Essas datas serão utilizadas para filtrar os dados históricos de cada ativo."
      ],
      "metadata": {
        "id": "GIH7Re4fMRQp"
      }
    },
    {
      "cell_type": "code",
      "source": [
        "# período de tempo\n",
        "data_inicio = '2022-01-01'\n",
        "data_fim = '2022-12-31'"
      ],
      "metadata": {
        "id": "33xcaqrZMdel"
      },
      "execution_count": 3,
      "outputs": []
    },
    {
      "cell_type": "markdown",
      "source": [
        "Selecionamos os ativos que compõem o portfólio a ser analisado.\n",
        " Cada código representa uma ação negociada na B3."
      ],
      "metadata": {
        "id": "8ViwRLxdNeiU"
      }
    },
    {
      "cell_type": "code",
      "source": [
        "# ações do portfólio\n",
        "acoes = ['PETR4.SA', 'VALE3.SA', 'ITUB4.SA', 'BBDC4.SA', 'BBAS3.SA']"
      ],
      "metadata": {
        "id": "etXCwXsONs6p"
      },
      "execution_count": 4,
      "outputs": []
    },
    {
      "cell_type": "markdown",
      "source": [
        "Utilizamos a função \"download\" da biblioteca yfinance para obter dados historicos, dos preços de fechamento das ações."
      ],
      "metadata": {
        "id": "48DdJ5ybN8J7"
      }
    },
    {
      "cell_type": "code",
      "source": [
        "# dados históricos\n",
        "dados = yf.download(acoes, start=data_inicio, end=data_fim)"
      ],
      "metadata": {
        "colab": {
          "base_uri": "https://localhost:8080/"
        },
        "id": "bMbezY4yOfse",
        "outputId": "7cb31a33-a61c-4756-fabf-db1c433938f1"
      },
      "execution_count": 5,
      "outputs": [
        {
          "output_type": "stream",
          "name": "stderr",
          "text": [
            "/tmp/ipython-input-5-1781763949.py:2: FutureWarning: YF.download() has changed argument auto_adjust default to True\n",
            "  dados = yf.download(acoes, start=data_inicio, end=data_fim)\n",
            "[*********************100%***********************]  5 of 5 completed\n"
          ]
        }
      ]
    }
  ]
}