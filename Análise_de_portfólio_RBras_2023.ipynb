{
  "nbformat": 4,
  "nbformat_minor": 0,
  "metadata": {
    "colab": {
      "provenance": [],
      "authorship_tag": "ABX9TyPo27reeFOdPCWZXJ70v0Nc",
      "include_colab_link": true
    },
    "kernelspec": {
      "name": "python3",
      "display_name": "Python 3"
    },
    "language_info": {
      "name": "python"
    }
  },
  "cells": [
    {
      "cell_type": "markdown",
      "metadata": {
        "id": "view-in-github",
        "colab_type": "text"
      },
      "source": [
        "<a href=\"https://colab.research.google.com/github/hermescosta/Hermes-2025-/blob/main/An%C3%A1lise_de_portf%C3%B3lio_RBras_2023.ipynb\" target=\"_parent\"><img src=\"https://colab.research.google.com/assets/colab-badge.svg\" alt=\"Open In Colab\"/></a>"
      ]
    },
    {
      "cell_type": "markdown",
      "source": [
        "Este estudo teve início no meu primeiro ano da graduação em Bacharelado em Estatística, com o objetivo de aplicar técnicas estatísticas descritivas em um contexto prático e acessível. A análise foi conduzida com foco na visualização e interpretação de dados de um portfólio de ações, permitindo uma compreensão mais intuitiva dos padrões de comportamento dos ativos. O trabalho foi apresentado na RBras 2023, realizada na cidade de Londrina, destacando-se pela abordagem visual e pela capacidade de extrair insights relevantes mesmo com ferramentas estatísticas iniciais."
      ],
      "metadata": {
        "id": "jX7HmMQqjpvN"
      }
    },
    {
      "cell_type": "markdown",
      "source": [
        "# **Análise de Portfólio**"
      ],
      "metadata": {
        "id": "ASycrq2Kj6K8"
      }
    },
    {
      "cell_type": "markdown",
      "source": [
        "# Introdução"
      ],
      "metadata": {
        "id": "l1a-qUfwkW-M"
      }
    },
    {
      "cell_type": "markdown",
      "source": [
        "No campo da avaliação de investimentos, a compreensão do nível de risco associado a um ativo desempenha um papel fundamental. O risco é um fator crucial na determinação da taxa de desconto utilizada para trazer os fluxos de caixa futuros a valor presente. A taxa de desconto, por sua vez, reflete o risco ao qual o capital investido está exposto em uma empresa, afetando diretamente a avaliação de projetos e a tomada de decisão dos investidores.\n",
        "\n",
        "No contexto dos investimentos, o risco está intimamente relacionado à probabilidade real de obter um retorno inferior ao esperado. Os investidores, conscientes desse risco, exigem uma taxa de retorno maior para compensar a incerteza e o potencial de perdas. Essa relação positiva entre risco e retorno esperado implica que projetos com maior volatilidade esperada exigiriam um prêmio de risco maior para atrair investidores.\n"
      ],
      "metadata": {
        "id": "MTShSVmDkbYU"
      }
    },
    {
      "cell_type": "markdown",
      "source": [
        "# Objetivo"
      ],
      "metadata": {
        "id": "o9NQ_-xOGpzQ"
      }
    },
    {
      "cell_type": "markdown",
      "source": [
        " Calcular estatísticas descritivas, como volatilidade, matriz de correlação, índice de Sharp e VaR, a fim de ajudar os investidores a compreender os riscos e retornos envolvidos na seleção de uma carteira de investimentos e, assim, minimizar perdas.\n",
        "\n",
        " Inicialmente importamos as bilbiotecas necessarias:\n",
        "\n",
        "\n",
        "\n",
        "*   YFinance: permite acessar dados financeiros do Yahoo Finance diretamente no Python.\n",
        "*   NumPy: biblioteca para computação numérica.\n",
        "*   Matplotlib: para visualização gráfica dos dados, permitindo criar gráficos de linha, barras, histogramas...\n",
        "\n",
        "\n",
        "\n",
        "\n",
        "\n"
      ],
      "metadata": {
        "id": "dkFSypUqGtfQ"
      }
    },
    {
      "cell_type": "code",
      "source": [
        "# importar as bibliotecas\n",
        "import yfinance as yf\n",
        "import numpy as np\n",
        "import matplotlib.pyplot as plt"
      ],
      "metadata": {
        "id": "8FKPOxdcKO0c"
      },
      "execution_count": 2,
      "outputs": []
    },
    {
      "cell_type": "markdown",
      "source": [
        "# Obtenção dos Dados"
      ],
      "metadata": {
        "id": "Kmo4wmRGH_Ku"
      }
    },
    {
      "cell_type": "markdown",
      "source": [
        "O portfólio analisado é composto pelos seguintes ativos da bolsa de valores brasileira: PETR4.SA, VALE3.SA, ITUB4.SA, BBDC4.SA e BBAS3.SA. Para cada um desses ativos, foram coletados os preços históricos de fechamento diário no período de 1º de janeiro de 2022 a 31 de dezembro de 2022. A coleta foi realizada utilizando a biblioteca yfinance, que permite acesso automatizado e direto à base de dados do Yahoo Finance, facilitando o processo de extração e manipulação das séries temporais financeiras."
      ],
      "metadata": {
        "id": "iCI5IiFmIHJy"
      }
    },
    {
      "cell_type": "markdown",
      "source": [
        "Definimos abaixo o período de análise, que compreende do início ao fim do ano de 2022.\n",
        "Essas datas serão utilizadas para filtrar os dados históricos de cada ativo."
      ],
      "metadata": {
        "id": "GIH7Re4fMRQp"
      }
    },
    {
      "cell_type": "code",
      "source": [
        "# período de tempo\n",
        "data_inicio = '2022-01-01'\n",
        "data_fim = '2022-12-31'"
      ],
      "metadata": {
        "id": "33xcaqrZMdel"
      },
      "execution_count": 3,
      "outputs": []
    },
    {
      "cell_type": "markdown",
      "source": [
        "Selecionamos os ativos que compõem o portfólio a ser analisado.\n",
        " Cada código representa uma ação negociada na B3."
      ],
      "metadata": {
        "id": "8ViwRLxdNeiU"
      }
    },
    {
      "cell_type": "code",
      "source": [
        "# ações do portfólio\n",
        "acoes = ['PETR4.SA', 'VALE3.SA', 'ITUB4.SA', 'BBDC4.SA', 'BBAS3.SA']"
      ],
      "metadata": {
        "id": "etXCwXsONs6p"
      },
      "execution_count": 4,
      "outputs": []
    },
    {
      "cell_type": "markdown",
      "source": [
        "Utilizamos a função \"download\" da biblioteca yfinance para obter dados historicos, dos preços de fechamento das ações."
      ],
      "metadata": {
        "id": "48DdJ5ybN8J7"
      }
    },
    {
      "cell_type": "code",
      "source": [
        "# dados históricos\n",
        "dados = yf.download(acoes, start=data_inicio, end=data_fim)"
      ],
      "metadata": {
        "colab": {
          "base_uri": "https://localhost:8080/"
        },
        "id": "bMbezY4yOfse",
        "outputId": "7cb31a33-a61c-4756-fabf-db1c433938f1"
      },
      "execution_count": 5,
      "outputs": [
        {
          "output_type": "stream",
          "name": "stderr",
          "text": [
            "/tmp/ipython-input-5-1781763949.py:2: FutureWarning: YF.download() has changed argument auto_adjust default to True\n",
            "  dados = yf.download(acoes, start=data_inicio, end=data_fim)\n",
            "[*********************100%***********************]  5 of 5 completed\n"
          ]
        }
      ]
    },
    {
      "cell_type": "code",
      "source": [
        "dados.head()"
      ],
      "metadata": {
        "colab": {
          "base_uri": "https://localhost:8080/",
          "height": 423
        },
        "id": "N0g_iE8HRVh_",
        "outputId": "b076d4c5-6887-45c4-bd2b-c533e57d5eaa"
      },
      "execution_count": 6,
      "outputs": [
        {
          "output_type": "execute_result",
          "data": {
            "text/plain": [
              "Price           Close                                                   High  \\\n",
              "Ticker       BBAS3.SA   BBDC4.SA   ITUB4.SA   PETR4.SA   VALE3.SA   BBAS3.SA   \n",
              "Date                                                                           \n",
              "2022-01-03  11.201031  13.926048  15.770365  10.843151  57.766415  11.566366   \n",
              "2022-01-04  11.212688  14.017354  16.217592  10.884156  57.085072  11.329285   \n",
              "2022-01-05  11.026135  13.918248  15.909665  10.462952  57.625694  11.263214   \n",
              "2022-01-06  11.115525  14.116471  16.232254  10.455497  58.788429  11.216576   \n",
              "2022-01-07  11.127186  14.321774  16.591503  10.503954  62.209980  11.201030   \n",
              "\n",
              "Price                                                   ...       Open  \\\n",
              "Ticker       BBDC4.SA   ITUB4.SA   PETR4.SA   VALE3.SA  ...   BBAS3.SA   \n",
              "Date                                                    ...              \n",
              "2022-01-03  14.088719  15.990315  10.891608  59.225388  ...  11.321514   \n",
              "2022-01-04  14.102308  16.261581  10.958705  58.558854  ...  11.317625   \n",
              "2022-01-05  14.102315  16.290912  10.910246  58.270014  ...  11.201030   \n",
              "2022-01-06  14.151870  16.305571  10.679144  59.506807  ...  11.045567   \n",
              "2022-01-07  14.321774  16.606166  10.544956  62.209980  ...  11.119413   \n",
              "\n",
              "Price                                                     Volume             \\\n",
              "Ticker       BBDC4.SA   ITUB4.SA   PETR4.SA   VALE3.SA  BBAS3.SA   BBDC4.SA   \n",
              "Date                                                                          \n",
              "2022-01-03  13.728014  15.521090  10.638142  58.507010  32338600   35620970   \n",
              "2022-01-04  13.932400  15.851010  10.869246  58.144123  23429600  110060060   \n",
              "2022-01-05  13.981963  16.195599  10.880426  57.299836  26325600   45808070   \n",
              "2022-01-06  13.868690  15.865673  10.544956  58.240391  20271000   36651120   \n",
              "2022-01-07  14.137707  16.195594  10.477862  59.543839  16377400   84778540   \n",
              "\n",
              "Price                                     \n",
              "Ticker      ITUB4.SA  PETR4.SA  VALE3.SA  \n",
              "Date                                      \n",
              "2022-01-03  36138190  52704700  18557200  \n",
              "2022-01-04  48343460  51739200  18178700  \n",
              "2022-01-05  34807190  78459800  22039000  \n",
              "2022-01-06  39441490  61163100  22044100  \n",
              "2022-01-07  47174930  47507600  35213100  \n",
              "\n",
              "[5 rows x 25 columns]"
            ],
            "text/html": [
              "\n",
              "  <div id=\"df-73572dd3-1a28-4ae4-b713-a979f1704f7f\" class=\"colab-df-container\">\n",
              "    <div>\n",
              "<style scoped>\n",
              "    .dataframe tbody tr th:only-of-type {\n",
              "        vertical-align: middle;\n",
              "    }\n",
              "\n",
              "    .dataframe tbody tr th {\n",
              "        vertical-align: top;\n",
              "    }\n",
              "\n",
              "    .dataframe thead tr th {\n",
              "        text-align: left;\n",
              "    }\n",
              "\n",
              "    .dataframe thead tr:last-of-type th {\n",
              "        text-align: right;\n",
              "    }\n",
              "</style>\n",
              "<table border=\"1\" class=\"dataframe\">\n",
              "  <thead>\n",
              "    <tr>\n",
              "      <th>Price</th>\n",
              "      <th colspan=\"5\" halign=\"left\">Close</th>\n",
              "      <th colspan=\"5\" halign=\"left\">High</th>\n",
              "      <th>...</th>\n",
              "      <th colspan=\"5\" halign=\"left\">Open</th>\n",
              "      <th colspan=\"5\" halign=\"left\">Volume</th>\n",
              "    </tr>\n",
              "    <tr>\n",
              "      <th>Ticker</th>\n",
              "      <th>BBAS3.SA</th>\n",
              "      <th>BBDC4.SA</th>\n",
              "      <th>ITUB4.SA</th>\n",
              "      <th>PETR4.SA</th>\n",
              "      <th>VALE3.SA</th>\n",
              "      <th>BBAS3.SA</th>\n",
              "      <th>BBDC4.SA</th>\n",
              "      <th>ITUB4.SA</th>\n",
              "      <th>PETR4.SA</th>\n",
              "      <th>VALE3.SA</th>\n",
              "      <th>...</th>\n",
              "      <th>BBAS3.SA</th>\n",
              "      <th>BBDC4.SA</th>\n",
              "      <th>ITUB4.SA</th>\n",
              "      <th>PETR4.SA</th>\n",
              "      <th>VALE3.SA</th>\n",
              "      <th>BBAS3.SA</th>\n",
              "      <th>BBDC4.SA</th>\n",
              "      <th>ITUB4.SA</th>\n",
              "      <th>PETR4.SA</th>\n",
              "      <th>VALE3.SA</th>\n",
              "    </tr>\n",
              "    <tr>\n",
              "      <th>Date</th>\n",
              "      <th></th>\n",
              "      <th></th>\n",
              "      <th></th>\n",
              "      <th></th>\n",
              "      <th></th>\n",
              "      <th></th>\n",
              "      <th></th>\n",
              "      <th></th>\n",
              "      <th></th>\n",
              "      <th></th>\n",
              "      <th></th>\n",
              "      <th></th>\n",
              "      <th></th>\n",
              "      <th></th>\n",
              "      <th></th>\n",
              "      <th></th>\n",
              "      <th></th>\n",
              "      <th></th>\n",
              "      <th></th>\n",
              "      <th></th>\n",
              "      <th></th>\n",
              "    </tr>\n",
              "  </thead>\n",
              "  <tbody>\n",
              "    <tr>\n",
              "      <th>2022-01-03</th>\n",
              "      <td>11.201031</td>\n",
              "      <td>13.926048</td>\n",
              "      <td>15.770365</td>\n",
              "      <td>10.843151</td>\n",
              "      <td>57.766415</td>\n",
              "      <td>11.566366</td>\n",
              "      <td>14.088719</td>\n",
              "      <td>15.990315</td>\n",
              "      <td>10.891608</td>\n",
              "      <td>59.225388</td>\n",
              "      <td>...</td>\n",
              "      <td>11.321514</td>\n",
              "      <td>13.728014</td>\n",
              "      <td>15.521090</td>\n",
              "      <td>10.638142</td>\n",
              "      <td>58.507010</td>\n",
              "      <td>32338600</td>\n",
              "      <td>35620970</td>\n",
              "      <td>36138190</td>\n",
              "      <td>52704700</td>\n",
              "      <td>18557200</td>\n",
              "    </tr>\n",
              "    <tr>\n",
              "      <th>2022-01-04</th>\n",
              "      <td>11.212688</td>\n",
              "      <td>14.017354</td>\n",
              "      <td>16.217592</td>\n",
              "      <td>10.884156</td>\n",
              "      <td>57.085072</td>\n",
              "      <td>11.329285</td>\n",
              "      <td>14.102308</td>\n",
              "      <td>16.261581</td>\n",
              "      <td>10.958705</td>\n",
              "      <td>58.558854</td>\n",
              "      <td>...</td>\n",
              "      <td>11.317625</td>\n",
              "      <td>13.932400</td>\n",
              "      <td>15.851010</td>\n",
              "      <td>10.869246</td>\n",
              "      <td>58.144123</td>\n",
              "      <td>23429600</td>\n",
              "      <td>110060060</td>\n",
              "      <td>48343460</td>\n",
              "      <td>51739200</td>\n",
              "      <td>18178700</td>\n",
              "    </tr>\n",
              "    <tr>\n",
              "      <th>2022-01-05</th>\n",
              "      <td>11.026135</td>\n",
              "      <td>13.918248</td>\n",
              "      <td>15.909665</td>\n",
              "      <td>10.462952</td>\n",
              "      <td>57.625694</td>\n",
              "      <td>11.263214</td>\n",
              "      <td>14.102315</td>\n",
              "      <td>16.290912</td>\n",
              "      <td>10.910246</td>\n",
              "      <td>58.270014</td>\n",
              "      <td>...</td>\n",
              "      <td>11.201030</td>\n",
              "      <td>13.981963</td>\n",
              "      <td>16.195599</td>\n",
              "      <td>10.880426</td>\n",
              "      <td>57.299836</td>\n",
              "      <td>26325600</td>\n",
              "      <td>45808070</td>\n",
              "      <td>34807190</td>\n",
              "      <td>78459800</td>\n",
              "      <td>22039000</td>\n",
              "    </tr>\n",
              "    <tr>\n",
              "      <th>2022-01-06</th>\n",
              "      <td>11.115525</td>\n",
              "      <td>14.116471</td>\n",
              "      <td>16.232254</td>\n",
              "      <td>10.455497</td>\n",
              "      <td>58.788429</td>\n",
              "      <td>11.216576</td>\n",
              "      <td>14.151870</td>\n",
              "      <td>16.305571</td>\n",
              "      <td>10.679144</td>\n",
              "      <td>59.506807</td>\n",
              "      <td>...</td>\n",
              "      <td>11.045567</td>\n",
              "      <td>13.868690</td>\n",
              "      <td>15.865673</td>\n",
              "      <td>10.544956</td>\n",
              "      <td>58.240391</td>\n",
              "      <td>20271000</td>\n",
              "      <td>36651120</td>\n",
              "      <td>39441490</td>\n",
              "      <td>61163100</td>\n",
              "      <td>22044100</td>\n",
              "    </tr>\n",
              "    <tr>\n",
              "      <th>2022-01-07</th>\n",
              "      <td>11.127186</td>\n",
              "      <td>14.321774</td>\n",
              "      <td>16.591503</td>\n",
              "      <td>10.503954</td>\n",
              "      <td>62.209980</td>\n",
              "      <td>11.201030</td>\n",
              "      <td>14.321774</td>\n",
              "      <td>16.606166</td>\n",
              "      <td>10.544956</td>\n",
              "      <td>62.209980</td>\n",
              "      <td>...</td>\n",
              "      <td>11.119413</td>\n",
              "      <td>14.137707</td>\n",
              "      <td>16.195594</td>\n",
              "      <td>10.477862</td>\n",
              "      <td>59.543839</td>\n",
              "      <td>16377400</td>\n",
              "      <td>84778540</td>\n",
              "      <td>47174930</td>\n",
              "      <td>47507600</td>\n",
              "      <td>35213100</td>\n",
              "    </tr>\n",
              "  </tbody>\n",
              "</table>\n",
              "<p>5 rows × 25 columns</p>\n",
              "</div>\n",
              "    <div class=\"colab-df-buttons\">\n",
              "\n",
              "  <div class=\"colab-df-container\">\n",
              "    <button class=\"colab-df-convert\" onclick=\"convertToInteractive('df-73572dd3-1a28-4ae4-b713-a979f1704f7f')\"\n",
              "            title=\"Convert this dataframe to an interactive table.\"\n",
              "            style=\"display:none;\">\n",
              "\n",
              "  <svg xmlns=\"http://www.w3.org/2000/svg\" height=\"24px\" viewBox=\"0 -960 960 960\">\n",
              "    <path d=\"M120-120v-720h720v720H120Zm60-500h600v-160H180v160Zm220 220h160v-160H400v160Zm0 220h160v-160H400v160ZM180-400h160v-160H180v160Zm440 0h160v-160H620v160ZM180-180h160v-160H180v160Zm440 0h160v-160H620v160Z\"/>\n",
              "  </svg>\n",
              "    </button>\n",
              "\n",
              "  <style>\n",
              "    .colab-df-container {\n",
              "      display:flex;\n",
              "      gap: 12px;\n",
              "    }\n",
              "\n",
              "    .colab-df-convert {\n",
              "      background-color: #E8F0FE;\n",
              "      border: none;\n",
              "      border-radius: 50%;\n",
              "      cursor: pointer;\n",
              "      display: none;\n",
              "      fill: #1967D2;\n",
              "      height: 32px;\n",
              "      padding: 0 0 0 0;\n",
              "      width: 32px;\n",
              "    }\n",
              "\n",
              "    .colab-df-convert:hover {\n",
              "      background-color: #E2EBFA;\n",
              "      box-shadow: 0px 1px 2px rgba(60, 64, 67, 0.3), 0px 1px 3px 1px rgba(60, 64, 67, 0.15);\n",
              "      fill: #174EA6;\n",
              "    }\n",
              "\n",
              "    .colab-df-buttons div {\n",
              "      margin-bottom: 4px;\n",
              "    }\n",
              "\n",
              "    [theme=dark] .colab-df-convert {\n",
              "      background-color: #3B4455;\n",
              "      fill: #D2E3FC;\n",
              "    }\n",
              "\n",
              "    [theme=dark] .colab-df-convert:hover {\n",
              "      background-color: #434B5C;\n",
              "      box-shadow: 0px 1px 3px 1px rgba(0, 0, 0, 0.15);\n",
              "      filter: drop-shadow(0px 1px 2px rgba(0, 0, 0, 0.3));\n",
              "      fill: #FFFFFF;\n",
              "    }\n",
              "  </style>\n",
              "\n",
              "    <script>\n",
              "      const buttonEl =\n",
              "        document.querySelector('#df-73572dd3-1a28-4ae4-b713-a979f1704f7f button.colab-df-convert');\n",
              "      buttonEl.style.display =\n",
              "        google.colab.kernel.accessAllowed ? 'block' : 'none';\n",
              "\n",
              "      async function convertToInteractive(key) {\n",
              "        const element = document.querySelector('#df-73572dd3-1a28-4ae4-b713-a979f1704f7f');\n",
              "        const dataTable =\n",
              "          await google.colab.kernel.invokeFunction('convertToInteractive',\n",
              "                                                    [key], {});\n",
              "        if (!dataTable) return;\n",
              "\n",
              "        const docLinkHtml = 'Like what you see? Visit the ' +\n",
              "          '<a target=\"_blank\" href=https://colab.research.google.com/notebooks/data_table.ipynb>data table notebook</a>'\n",
              "          + ' to learn more about interactive tables.';\n",
              "        element.innerHTML = '';\n",
              "        dataTable['output_type'] = 'display_data';\n",
              "        await google.colab.output.renderOutput(dataTable, element);\n",
              "        const docLink = document.createElement('div');\n",
              "        docLink.innerHTML = docLinkHtml;\n",
              "        element.appendChild(docLink);\n",
              "      }\n",
              "    </script>\n",
              "  </div>\n",
              "\n",
              "\n",
              "    <div id=\"df-64c95352-2270-4528-8b93-22502a823c36\">\n",
              "      <button class=\"colab-df-quickchart\" onclick=\"quickchart('df-64c95352-2270-4528-8b93-22502a823c36')\"\n",
              "                title=\"Suggest charts\"\n",
              "                style=\"display:none;\">\n",
              "\n",
              "<svg xmlns=\"http://www.w3.org/2000/svg\" height=\"24px\"viewBox=\"0 0 24 24\"\n",
              "     width=\"24px\">\n",
              "    <g>\n",
              "        <path d=\"M19 3H5c-1.1 0-2 .9-2 2v14c0 1.1.9 2 2 2h14c1.1 0 2-.9 2-2V5c0-1.1-.9-2-2-2zM9 17H7v-7h2v7zm4 0h-2V7h2v10zm4 0h-2v-4h2v4z\"/>\n",
              "    </g>\n",
              "</svg>\n",
              "      </button>\n",
              "\n",
              "<style>\n",
              "  .colab-df-quickchart {\n",
              "      --bg-color: #E8F0FE;\n",
              "      --fill-color: #1967D2;\n",
              "      --hover-bg-color: #E2EBFA;\n",
              "      --hover-fill-color: #174EA6;\n",
              "      --disabled-fill-color: #AAA;\n",
              "      --disabled-bg-color: #DDD;\n",
              "  }\n",
              "\n",
              "  [theme=dark] .colab-df-quickchart {\n",
              "      --bg-color: #3B4455;\n",
              "      --fill-color: #D2E3FC;\n",
              "      --hover-bg-color: #434B5C;\n",
              "      --hover-fill-color: #FFFFFF;\n",
              "      --disabled-bg-color: #3B4455;\n",
              "      --disabled-fill-color: #666;\n",
              "  }\n",
              "\n",
              "  .colab-df-quickchart {\n",
              "    background-color: var(--bg-color);\n",
              "    border: none;\n",
              "    border-radius: 50%;\n",
              "    cursor: pointer;\n",
              "    display: none;\n",
              "    fill: var(--fill-color);\n",
              "    height: 32px;\n",
              "    padding: 0;\n",
              "    width: 32px;\n",
              "  }\n",
              "\n",
              "  .colab-df-quickchart:hover {\n",
              "    background-color: var(--hover-bg-color);\n",
              "    box-shadow: 0 1px 2px rgba(60, 64, 67, 0.3), 0 1px 3px 1px rgba(60, 64, 67, 0.15);\n",
              "    fill: var(--button-hover-fill-color);\n",
              "  }\n",
              "\n",
              "  .colab-df-quickchart-complete:disabled,\n",
              "  .colab-df-quickchart-complete:disabled:hover {\n",
              "    background-color: var(--disabled-bg-color);\n",
              "    fill: var(--disabled-fill-color);\n",
              "    box-shadow: none;\n",
              "  }\n",
              "\n",
              "  .colab-df-spinner {\n",
              "    border: 2px solid var(--fill-color);\n",
              "    border-color: transparent;\n",
              "    border-bottom-color: var(--fill-color);\n",
              "    animation:\n",
              "      spin 1s steps(1) infinite;\n",
              "  }\n",
              "\n",
              "  @keyframes spin {\n",
              "    0% {\n",
              "      border-color: transparent;\n",
              "      border-bottom-color: var(--fill-color);\n",
              "      border-left-color: var(--fill-color);\n",
              "    }\n",
              "    20% {\n",
              "      border-color: transparent;\n",
              "      border-left-color: var(--fill-color);\n",
              "      border-top-color: var(--fill-color);\n",
              "    }\n",
              "    30% {\n",
              "      border-color: transparent;\n",
              "      border-left-color: var(--fill-color);\n",
              "      border-top-color: var(--fill-color);\n",
              "      border-right-color: var(--fill-color);\n",
              "    }\n",
              "    40% {\n",
              "      border-color: transparent;\n",
              "      border-right-color: var(--fill-color);\n",
              "      border-top-color: var(--fill-color);\n",
              "    }\n",
              "    60% {\n",
              "      border-color: transparent;\n",
              "      border-right-color: var(--fill-color);\n",
              "    }\n",
              "    80% {\n",
              "      border-color: transparent;\n",
              "      border-right-color: var(--fill-color);\n",
              "      border-bottom-color: var(--fill-color);\n",
              "    }\n",
              "    90% {\n",
              "      border-color: transparent;\n",
              "      border-bottom-color: var(--fill-color);\n",
              "    }\n",
              "  }\n",
              "</style>\n",
              "\n",
              "      <script>\n",
              "        async function quickchart(key) {\n",
              "          const quickchartButtonEl =\n",
              "            document.querySelector('#' + key + ' button');\n",
              "          quickchartButtonEl.disabled = true;  // To prevent multiple clicks.\n",
              "          quickchartButtonEl.classList.add('colab-df-spinner');\n",
              "          try {\n",
              "            const charts = await google.colab.kernel.invokeFunction(\n",
              "                'suggestCharts', [key], {});\n",
              "          } catch (error) {\n",
              "            console.error('Error during call to suggestCharts:', error);\n",
              "          }\n",
              "          quickchartButtonEl.classList.remove('colab-df-spinner');\n",
              "          quickchartButtonEl.classList.add('colab-df-quickchart-complete');\n",
              "        }\n",
              "        (() => {\n",
              "          let quickchartButtonEl =\n",
              "            document.querySelector('#df-64c95352-2270-4528-8b93-22502a823c36 button');\n",
              "          quickchartButtonEl.style.display =\n",
              "            google.colab.kernel.accessAllowed ? 'block' : 'none';\n",
              "        })();\n",
              "      </script>\n",
              "    </div>\n",
              "\n",
              "    </div>\n",
              "  </div>\n"
            ],
            "application/vnd.google.colaboratory.intrinsic+json": {
              "type": "dataframe",
              "variable_name": "dados"
            }
          },
          "metadata": {},
          "execution_count": 6
        },
        {
          "output_type": "stream",
          "name": "stdout",
          "text": [
            "Warning: Total number of columns (25) exceeds max_columns (20) limiting to first (20) columns.\n"
          ]
        }
      ]
    }
  ]
}